{
 "cells": [
  {
   "cell_type": "code",
   "execution_count": 1,
   "id": "f7994798",
   "metadata": {},
   "outputs": [],
   "source": [
    "import tensorflow as tf\n",
    "import numpy as np"
   ]
  },
  {
   "cell_type": "code",
   "execution_count": 2,
   "id": "7ab2e82e",
   "metadata": {},
   "outputs": [
    {
     "data": {
      "text/plain": [
       "True"
      ]
     },
     "execution_count": 2,
     "metadata": {},
     "output_type": "execute_result"
    }
   ],
   "source": [
    "tf.executing_eagerly() # 즉시실행"
   ]
  },
  {
   "cell_type": "code",
   "execution_count": 3,
   "id": "8eb9579d",
   "metadata": {},
   "outputs": [],
   "source": [
    "x_train = [[1., 2.],\n",
    "           [2., 3.],\n",
    "           [3., 1.],\n",
    "           [4., 3.],\n",
    "           [5., 3.],\n",
    "           [6., 2.]]\n",
    "y_train = [[0.],\n",
    "           [0.],\n",
    "           [0.],\n",
    "           [1.],\n",
    "           [1.],\n",
    "           [1.]]\n",
    "\n",
    "x_test = [[5., 2.]]\n",
    "y_test = [[1.]]"
   ]
  },
  {
   "cell_type": "code",
   "execution_count": null,
   "id": "207f1aa8",
   "metadata": {},
   "outputs": [],
   "source": [
    "dataset = tf.data.Dataset.from_tensor_slices((x_train, y_train)).batch(len(x_train))\n",
    "W = tf.Variable(tf.zeros([2,1]), name='weight')\n",
    "b = tf.Variable(tf.zeros([1]), name='bias')"
   ]
  },
  {
   "cell_type": "code",
   "execution_count": null,
   "id": "d9395b1d",
   "metadata": {},
   "outputs": [],
   "source": [
    "def logistic_regression(features):\n",
    "    hypothesis = tf.truediv(1., 1. + tf.exp(tf.matmul(features, W) + b))\n",
    "    return hypothesis"
   ]
  },
  {
   "cell_type": "code",
   "execution_count": null,
   "id": "472d674d",
   "metadata": {},
   "outputs": [],
   "source": [
    "def loss_fn(features, labels):\n",
    "    hypothesis = logistic_regression(features)\n",
    "    cost = -tf.reduce_mean(labels * tf.log(loss_fn(hypothesis) + (1 - labels) * tf.log(1- hypothesis)))\n",
    "    return cost"
   ]
  },
  {
   "cell_type": "code",
   "execution_count": null,
   "id": "144cc963",
   "metadata": {},
   "outputs": [],
   "source": [
    "def grad(hypothesis, features, labels):\n",
    "    with tf.GradientTape() as tape:\n",
    "        loss_value = loss_fn(hypothesis, labels)\n",
    "    return tape.gradient(loss_value, [W, b])\n",
    "optimizer = tf.keras.optimizers.SGD(learning_rate=0.01)\n"
   ]
  },
  {
   "cell_type": "code",
   "execution_count": null,
   "id": "c4bd56da",
   "metadata": {},
   "outputs": [],
   "source": [
    "for step in range(1000):\n",
    "    for features, labels in iter(dataset):\n",
    "        grads = grad(logistic_regression(features), features, labels)\n",
    "        optimizer.apply_gradients(grads_and_vars=zip(grads,[W,b]))\n",
    "        if step % 100 == 0:\n",
    "            print(\" Iter : {}, Loss : {:.4f}\".format(step, loss_fn(logistic_regression(features),labels)))"
   ]
  },
  {
   "cell_type": "code",
   "execution_count": null,
   "id": "c0c5e8a4",
   "metadata": {},
   "outputs": [],
   "source": []
  }
 ],
 "metadata": {
  "kernelspec": {
   "display_name": "Python 3 (ipykernel)",
   "language": "python",
   "name": "python3"
  },
  "language_info": {
   "codemirror_mode": {
    "name": "ipython",
    "version": 3
   },
   "file_extension": ".py",
   "mimetype": "text/x-python",
   "name": "python",
   "nbconvert_exporter": "python",
   "pygments_lexer": "ipython3",
   "version": "3.9.1"
  }
 },
 "nbformat": 4,
 "nbformat_minor": 5
}
