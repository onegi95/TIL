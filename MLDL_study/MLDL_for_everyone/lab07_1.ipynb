{
  "nbformat": 4,
  "nbformat_minor": 0,
  "metadata": {
    "colab": {
      "name": "lab07_1.ipynb",
      "provenance": [],
      "authorship_tag": "ABX9TyOX7UPUeqLjcxhrW/pm46/o",
      "include_colab_link": true
    },
    "kernelspec": {
      "name": "python3",
      "display_name": "Python 3"
    },
    "language_info": {
      "name": "python"
    }
  },
  "cells": [
    {
      "cell_type": "markdown",
      "metadata": {
        "id": "view-in-github",
        "colab_type": "text"
      },
      "source": [
        "<a href=\"https://colab.research.google.com/github/onegi95/TIL/blob/master/lab07_1.ipynb\" target=\"_parent\"><img src=\"https://colab.research.google.com/assets/colab-badge.svg\" alt=\"Open In Colab\"/></a>"
      ]
    },
    {
      "cell_type": "code",
      "execution_count": null,
      "metadata": {
        "id": "Yi4tZgIZtSoy"
      },
      "outputs": [],
      "source": [
        "# Learning rate\n",
        "\n",
        "import tensorflow as tf\n"
      ]
    },
    {
      "cell_type": "code",
      "source": [
        "def grad(hypothesis, labels):\n",
        "  with tf.GradientTape() as tape:\n",
        "    loss_value = lose_fn(hypothesis, labels)\n",
        "  return tape.gradient(loss_value, [W, b])\n",
        "\n",
        "optimizer = tf.train.GradientDescentOptimizer(learning_rate=0.01)\n",
        "optimizer.apply_gradients(Grads_and_vars=zip(grads, [W,b]))"
      ],
      "metadata": {
        "id": "nIGgdXuwP7pq"
      },
      "execution_count": null,
      "outputs": []
    },
    {
      "cell_type": "code",
      "source": [
        "# Learning rate decay\n",
        "## Annealing the learning rate\n",
        "\n",
        "def exponential_decay(epoch):\n",
        "  starter_rate = 0.01\n",
        "  k=0.96\n",
        "  exp_rate = starter_rate * exp(-k*t)\n",
        "  return exp_rate\n",
        "\n",
        "learning_rate = tf.train.exponential_decay(starter_learning_rate, globalstep, 1000, 0.96, staitcase)\n"
      ],
      "metadata": {
        "id": "7LsXJYCHRI86"
      },
      "execution_count": null,
      "outputs": []
    },
    {
      "cell_type": "code",
      "source": [
        "# Data preprocesing\n",
        "\n"
      ],
      "metadata": {
        "id": "KIAPbKTFRr4q"
      },
      "execution_count": null,
      "outputs": []
    }
  ]
}