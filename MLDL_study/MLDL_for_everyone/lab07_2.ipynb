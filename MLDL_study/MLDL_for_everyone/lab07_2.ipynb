{
  "nbformat": 4,
  "nbformat_minor": 0,
  "metadata": {
    "colab": {
      "name": "lab07_2.ipynb",
      "provenance": [],
      "collapsed_sections": []
    },
    "kernelspec": {
      "name": "python3",
      "display_name": "Python 3"
    },
    "language_info": {
      "name": "python"
    }
  },
  "cells": [
    {
      "cell_type": "code",
      "execution_count": 1,
      "metadata": {
        "id": "Yi4tZgIZtSoy"
      },
      "outputs": [],
      "source": [
        "# overfitting and Regulation"
      ]
    },
    {
      "cell_type": "code",
      "source": [
        "import tensorflow as tf"
      ],
      "metadata": {
        "id": "nIGgdXuwP7pq"
      },
      "execution_count": 2,
      "outputs": []
    },
    {
      "cell_type": "code",
      "source": [
        "import numpy as np\n",
        "import matplotlib.pyplot as plt\n",
        "\n",
        "%matplotlib inline"
      ],
      "metadata": {
        "id": "7LsXJYCHRI86"
      },
      "execution_count": 4,
      "outputs": []
    },
    {
      "cell_type": "code",
      "source": [
        "# 중간에 큰 수가 있다\n",
        "xy = np.array([[828.659973, 833.450012, 908100, 828.349976, 831.659973],\n",
        "              [823, 828, 1828100, 821, 828],\n",
        "              [820, 824.5, 1438100, 818.979, 824.159],\n",
        "              [816, 821, 1008100, 815.4899, 819.23999],\n",
        "              [819.359, 823, 1188100, 818.469, 818.979],\n",
        "              [819, 823, 1198100, 816, 820.45],\n",
        "              [811.700, 815.25, 1098100, 809.78, 813.669],\n",
        "              [809.51, 816.65, 1398100, 804.539, 809.559]])"
      ],
      "metadata": {
        "id": "KIAPbKTFRr4q"
      },
      "execution_count": 5,
      "outputs": []
    },
    {
      "cell_type": "code",
      "source": [
        "x_train = xy[:, 0:-1]\n",
        "y_train = xy[:, [-1]]"
      ],
      "metadata": {
        "id": "J9DuyURN0IG2"
      },
      "execution_count": 6,
      "outputs": []
    },
    {
      "cell_type": "code",
      "source": [
        "def normalization(data):\n",
        "  numerator = data - np.min(data, 0)\n",
        "  denominator = np.max(data, 0) - np.min(data, 0)\n",
        "  return numerator / denominator"
      ],
      "metadata": {
        "id": "YqF8ZODG0OBp"
      },
      "execution_count": 7,
      "outputs": []
    },
    {
      "cell_type": "code",
      "source": [
        "xy = normalization(xy)\n",
        "\n",
        "plt.plot(x_train, 'ro')\n",
        "plt.plot(y_train)\n",
        "\n",
        "plt.show()\n",
        "\n",
        "xy = normalization(xy)\n",
        "print(xy)\n",
        "x_train = xy[:, 0:-1]\n",
        "y_train = xy[:, [-1]]\n",
        "\n",
        "plt.plot(x_train, 'ro')\n",
        "plt.plot(y_train)\n",
        "\n",
        "plt.show()"
      ],
      "metadata": {
        "id": "MnGNktJf0ai9",
        "colab": {
          "base_uri": "https://localhost:8080/",
          "height": 671
        },
        "outputId": "c6dda814-8d09-4a43-f934-668a7673f271"
      },
      "execution_count": 9,
      "outputs": [
        {
          "output_type": "display_data",
          "data": {
            "image/png": "[encoded data removed]",
            "text/plain": [
              "<Figure size 432x288 with 1 Axes>"
            ]
          },
          "metadata": {
            "needs_background": "light"
          }
        },
        {
          "output_type": "stream",
          "name": "stdout",
          "text": [
            "[[1.         1.         0.         1.         1.        ]\n",
            " [0.70443964 0.70054899 1.         0.69131984 0.83439765]\n",
            " [0.54778145 0.50824142 0.57608696 0.60644301 0.6606044 ]\n",
            " [0.33890387 0.31593386 0.10869565 0.45990975 0.43803456]\n",
            " [0.51430882 0.4258239  0.30434783 0.58502432 0.42622558]\n",
            " [0.49556206 0.4258239  0.31521739 0.48133264 0.49278373]\n",
            " [0.11436047 0.         0.20652174 0.22010858 0.18596466]\n",
            " [0.         0.07692303 0.5326087  0.         0.        ]]\n"
          ]
        },
        {
          "output_type": "display_data",
          "data": {
            "image/png": "[encoded data removed]",
            "text/plain": [
              "<Figure size 432x288 with 1 Axes>"
            ]
          },
          "metadata": {
            "needs_background": "light"
          }
        }
      ]
    },
    {
      "cell_type": "code",
      "source": [
        "dataset = tf.data.Dataset.from_tensor_slices((x_train, y_train)).batch(len(x_train))\n",
        "\n",
        "W = tf.Variable(tf.random.normal([4, 1]), dtype=tf.float32)\n",
        "b = tf.Variable(tf.random.normal([1]), dtype=tf.float32)"
      ],
      "metadata": {
        "id": "dHWK5cuR0coC"
      },
      "execution_count": 12,
      "outputs": []
    },
    {
      "cell_type": "code",
      "source": [
        "def linearReg_fn(features):\n",
        "  hypothesis = tf.matmul(features, W) + b\n",
        "  return hypothesis\n",
        "\n",
        "def l2_loss(loss, beta = 0.01):\n",
        "    W_reg = tf.nn.l2_loss(W) # output = sum(t ** 2) / 2\n",
        "    loss = tf.reduce_mean(loss + W_reg * beta)\n",
        "    return loss\n",
        "\n",
        "def loss_fn(hypothesis, features, labels, flag = False):\n",
        "    cost = tf.reduce_mean(tf.square(hypothesis - labels))\n",
        "    if(flag):\n",
        "        cost = l2_loss(cost)\n",
        "    return cost"
      ],
      "metadata": {
        "id": "bzc_PC831LxX"
      },
      "execution_count": 13,
      "outputs": []
    },
    {
      "cell_type": "code",
      "source": [
        "is_decay = True\n",
        "starter_learning_rate = 0.1\n",
        "\n",
        "if(is_decay):\n",
        "  global_step = tf.Variable(0, trainable=False)\n",
        "  learning_rate = tf.keras.optimizers.schedules.ExponentialDecay(starter_learning_rate,50, 0.96, staircase=True)\n",
        "  optimizer =  tf.keras.optimizers.SGD(learning_rate)\n",
        "else:\n",
        "  optimizer =  tf.keras.optimizers.SGD(learning_rate = starter_learning_rate)\n",
        "\n",
        "def grad(hypothesis, features, labels, l2_flag):\n",
        "    with tf.GradientTape() as tape:\n",
        "        loss_value = loss_fn(linearReg_fn(features),features,labels, l2_flag)\n",
        "    return tape.gradient(loss_value, [W,b]), loss_value\n",
        "\n",
        "\n",
        "for step in range(101):\n",
        "  iterator = iter(dataset)\n",
        "  for features, labels in dataset:\n",
        "    features = tf.cast(features, tf.float32)\n",
        "    labels = tf.cast(labels, tf.float32)\n",
        "    grads, loss_value = grad(linearReg_fn(features),features,labels,False)\n",
        "    optimizer.apply_gradients(grads_and_vars=zip(grads, [W,b]))\n",
        "    if step % 10 == 0 :\n",
        "      print(\" Iter: {}, Loss: {:.4f}, Learning Rate : {:.8f}\".format(step, loss_value, optimizer.learning_rate(step)))"
      ],
      "metadata": {
        "colab": {
          "base_uri": "https://localhost:8080/"
        },
        "id": "Qhf-RRHd2TQN",
        "outputId": "4fc7febc-3eab-4a78-f5f8-b90f46ea8dae"
      },
      "execution_count": 15,
      "outputs": [
        {
          "output_type": "stream",
          "name": "stdout",
          "text": [
            " Iter: 0, Loss: 0.0096, Learning Rate : 0.10000000\n",
            " Iter: 10, Loss: 0.0085, Learning Rate : 0.10000000\n",
            " Iter: 20, Loss: 0.0076, Learning Rate : 0.10000000\n",
            " Iter: 30, Loss: 0.0070, Learning Rate : 0.10000000\n",
            " Iter: 40, Loss: 0.0065, Learning Rate : 0.10000000\n",
            " Iter: 50, Loss: 0.0061, Learning Rate : 0.09600000\n",
            " Iter: 60, Loss: 0.0059, Learning Rate : 0.09600000\n",
            " Iter: 70, Loss: 0.0057, Learning Rate : 0.09600000\n",
            " Iter: 80, Loss: 0.0055, Learning Rate : 0.09600000\n",
            " Iter: 90, Loss: 0.0054, Learning Rate : 0.09600000\n",
            " Iter: 100, Loss: 0.0052, Learning Rate : 0.09216000\n"
          ]
        }
      ]
    },
    {
      "cell_type": "code",
      "source": [
        ""
      ],
      "metadata": {
        "id": "R7IV1LEVRhuE"
      },
      "execution_count": null,
      "outputs": []
    }
  ]
}