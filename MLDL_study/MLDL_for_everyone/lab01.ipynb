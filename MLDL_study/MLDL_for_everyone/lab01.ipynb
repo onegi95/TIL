{
 "cells": [
  {
   "cell_type": "code",
   "execution_count": 2,
   "id": "62035738",
   "metadata": {},
   "outputs": [],
   "source": [
    "import tensorflow as tf"
   ]
  },
  {
   "cell_type": "code",
   "execution_count": 7,
   "id": "37b2856b",
   "metadata": {},
   "outputs": [],
   "source": [
    "hello = tf.constant('hello tf!!')"
   ]
  },
  {
   "cell_type": "code",
   "execution_count": 8,
   "id": "571e6c53",
   "metadata": {},
   "outputs": [
    {
     "name": "stdout",
     "output_type": "stream",
     "text": [
      "hello tf!!\r\n"
     ]
    }
   ],
   "source": [
    "tf.print(hello)"
   ]
  },
  {
   "cell_type": "code",
   "execution_count": 12,
   "id": "ac6297e9",
   "metadata": {},
   "outputs": [
    {
     "name": "stdout",
     "output_type": "stream",
     "text": [
      "4 5\n",
      "9\n",
      "tf.Tensor(4.0, shape=(), dtype=float32)\n"
     ]
    }
   ],
   "source": [
    "node1 = tf.constant(4.0, tf.float32)\n",
    "node2 = tf.constant(5.0)\n",
    "node3 = tf.add(node1, node2)\n",
    "tf.print(node1, node2) # session 을 따로 주지 않고 tf.print 로 사용가능\n",
    "tf.print(node3)\n",
    "print(node1)"
   ]
  },
  {
   "cell_type": "code",
   "execution_count": 14,
   "id": "e07c0dea",
   "metadata": {},
   "outputs": [
    {
     "name": "stdout",
     "output_type": "stream",
     "text": [
      "9\r\n"
     ]
    }
   ],
   "source": [
    "@tf.function\n",
    "def adder(a,b): # tf 2.0 버전 이후로 placehold 가 없어지고 @tf.function 으로 function 을 선언해서 작업하는 형태로 바뀜\n",
    "    return a + b\n",
    "node1 = tf.constant(4.0, tf.float32)\n",
    "node2 = tf.constant(5.0)\n",
    "tf.print(adder(node1, node2))"
   ]
  },
  {
   "cell_type": "code",
   "execution_count": null,
   "id": "d44d9649",
   "metadata": {},
   "outputs": [],
   "source": [
    "# tensor 이란? type shape rank!\n",
    "# rank 는 기본 tensor 를 생각하면 편하다! (기존은 1스칼라 2벡터)\n",
    "# shape 는 안에 몇개의 shape 가 있는지? [[1,2,3], [4,5,6]] = 2-3 shape"
   ]
  }
 ],
 "metadata": {
  "kernelspec": {
   "display_name": "Python 3 (ipykernel)",
   "language": "python",
   "name": "python3"
  },
  "language_info": {
   "codemirror_mode": {
    "name": "ipython",
    "version": 3
   },
   "file_extension": ".py",
   "mimetype": "text/x-python",
   "name": "python",
   "nbconvert_exporter": "python",
   "pygments_lexer": "ipython3",
   "version": "3.9.1"
  }
 },
 "nbformat": 4,
 "nbformat_minor": 5
}
